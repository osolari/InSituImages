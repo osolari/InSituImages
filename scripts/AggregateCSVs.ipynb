{
 "cells": [
  {
   "cell_type": "code",
   "execution_count": 2,
   "metadata": {
    "collapsed": true
   },
   "outputs": [],
   "source": [
    "import numpy as np"
   ]
  },
  {
   "cell_type": "code",
   "execution_count": 3,
   "metadata": {
    "collapsed": true
   },
   "outputs": [],
   "source": [
    "import pandas as pd\n",
    "import os"
   ]
  },
  {
   "cell_type": "code",
   "execution_count": 16,
   "metadata": {
    "collapsed": false
   },
   "outputs": [],
   "source": [
    "CsvDir = \"/Users/darkGene/workspace/InsituImages/MeshGen/\"\n",
    "CsvNames = [i for i in os.listdir(CsvDir) if \".csv\" in i]"
   ]
  },
  {
   "cell_type": "code",
   "execution_count": 35,
   "metadata": {
    "collapsed": false
   },
   "outputs": [],
   "source": [
    "df = pd.DataFrame()\n",
    "for i in CsvNames:\n",
    "    \n",
    "    try:\n",
    "        df[i.split(\".\")[0]] = pd.read_table(CsvDir + \"/\" + i, header = None,  names=None, index_col=None)[0]\n",
    "    except:\n",
    "        \n",
    "        df[i.split(\".\")[0]] = pd.Series(np.repeat(\"NaN\", 311))"
   ]
  },
  {
   "cell_type": "code",
   "execution_count": 36,
   "metadata": {
    "collapsed": false
   },
   "outputs": [],
   "source": [
    "df.to_csv(\"/Users/darkGene/workspace/InsituImages/InsituDataFrame.csv\", sep= \"\\t\")"
   ]
  },
  {
   "cell_type": "code",
   "execution_count": null,
   "metadata": {
    "collapsed": true
   },
   "outputs": [],
   "source": []
  }
 ],
 "metadata": {
  "kernelspec": {
   "display_name": "Python 2",
   "language": "python",
   "name": "python2"
  }
 },
 "nbformat": 4,
 "nbformat_minor": 0
}
